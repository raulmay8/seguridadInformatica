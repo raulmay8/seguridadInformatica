{
 "cells": [
  {
   "cell_type": "code",
   "execution_count": 2,
   "id": "353c97e1",
   "metadata": {},
   "outputs": [
    {
     "name": "stdout",
     "output_type": "stream",
     "text": [
      "Introduce un número: 0\n",
      "No puedes dividir por cero. \n"
     ]
    }
   ],
   "source": [
    "try:\n",
    "    numero = int(input(\"Introduce un número: \"))\n",
    "    resultado = 10 / numero\n",
    "    print(resultado)\n",
    "except ZeroDivisionError:\n",
    "    print(\"No puedes dividir por cero. \")   \n",
    "except ValueError:\n",
    "    print(\"Debes ingresar un número válido.\")"
   ]
  },
  {
   "cell_type": "code",
   "execution_count": 19,
   "id": "67c5a6ca",
   "metadata": {},
   "outputs": [
    {
     "name": "stdout",
     "output_type": "stream",
     "text": [
      "T\n",
      "G\n",
      "G\n",
      "V\n",
      "G\n",
      "B\n"
     ]
    }
   ],
   "source": [
    "#guerreros_z = {\"Goku\", \"Vegeta\", \"Gohan\", \"Broly\", \"Goten\", \"Trunks\"}\n",
    "guerreros_z = {\"name\":\"Goku\"}\n",
    "\n",
    "for guerrero in guerreros_z:\n",
    "    print(guerrero[0])"
   ]
  },
  {
   "cell_type": "code",
   "execution_count": 12,
   "id": "b8c7e16c",
   "metadata": {},
   "outputs": [
    {
     "name": "stdout",
     "output_type": "stream",
     "text": [
      "Vegeta\n"
     ]
    }
   ],
   "source": [
    "def obtener_guerrero(index):\n",
    "    try:\n",
    "        print(guerreros_z[index])\n",
    "    except IndexError:\n",
    "        print(\"El index del guerrero no existe\")\n",
    "        \n",
    "obtener_guerrero(1)"
   ]
  },
  {
   "cell_type": "code",
   "execution_count": 29,
   "id": "058a6372",
   "metadata": {},
   "outputs": [
    {
     "name": "stdout",
     "output_type": "stream",
     "text": [
      "Error desconocido 'set' object is not subscriptable\n"
     ]
    }
   ],
   "source": [
    "def obtener_guerrero_key(clave):\n",
    "    try:\n",
    "        print(guerreros_z[clave])\n",
    "    except Exception as e:\n",
    "        print(f\"Error desconocido {e}\")\n",
    "        \n",
    "obtener_guerrero_key(\"name\")"
   ]
  },
  {
   "cell_type": "code",
   "execution_count": null,
   "id": "bbce6205",
   "metadata": {},
   "outputs": [],
   "source": []
  }
 ],
 "metadata": {
  "kernelspec": {
   "display_name": "Python 3 (ipykernel)",
   "language": "python",
   "name": "python3"
  },
  "language_info": {
   "codemirror_mode": {
    "name": "ipython",
    "version": 3
   },
   "file_extension": ".py",
   "mimetype": "text/x-python",
   "name": "python",
   "nbconvert_exporter": "python",
   "pygments_lexer": "ipython3",
   "version": "3.11.4"
  }
 },
 "nbformat": 4,
 "nbformat_minor": 5
}
