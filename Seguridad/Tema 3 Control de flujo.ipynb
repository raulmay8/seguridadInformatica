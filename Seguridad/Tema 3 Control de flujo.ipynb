{
 "cells": [
  {
   "cell_type": "code",
   "execution_count": null,
   "id": "1153c7c6",
   "metadata": {},
   "outputs": [],
   "source": [
    "#Indentación\n",
    "# : No existe en líneas de código\n",
    "#{} No existe bloques de código\n",
    "#() No existe en funciones\n",
    "#Solo existen dos puntos que es utilizado para todo\n",
    "\n",
    "#Tenemos indentado los espacios, y hay 4 espacios obligatorios\n"
   ]
  },
  {
   "cell_type": "code",
   "execution_count": 6,
   "id": "9bfc543c",
   "metadata": {},
   "outputs": [
    {
     "ename": "SyntaxError",
     "evalue": "invalid syntax. Maybe you meant '==' or ':=' instead of '='? (2191440234.py, line 1)",
     "output_type": "error",
     "traceback": [
      "\u001b[1;36m  Cell \u001b[1;32mIn[6], line 1\u001b[1;36m\u001b[0m\n\u001b[1;33m    for(i=0; i<=10; i++){\u001b[0m\n\u001b[1;37m        ^\u001b[0m\n\u001b[1;31mSyntaxError\u001b[0m\u001b[1;31m:\u001b[0m invalid syntax. Maybe you meant '==' or ':=' instead of '='?\n"
     ]
    }
   ],
   "source": [
    "for(i=0; i<=10; i++){\n",
    "    print(colores[i])\n",
    "}"
   ]
  },
  {
   "cell_type": "code",
   "execution_count": 4,
   "id": "3a6e85ae",
   "metadata": {},
   "outputs": [
    {
     "name": "stdout",
     "output_type": "stream",
     "text": [
      "Blanco\n",
      "Azul\n",
      "Verde\n"
     ]
    }
   ],
   "source": [
    "colores = [\"Blanco\", \"Azul\", \"Verde\"]\n",
    "\n",
    "for color in colores:\n",
    "    print(color)"
   ]
  },
  {
   "cell_type": "code",
   "execution_count": 11,
   "id": "058a5e18",
   "metadata": {},
   "outputs": [
    {
     "data": {
      "text/plain": [
       "'Verde'"
      ]
     },
     "execution_count": 11,
     "metadata": {},
     "output_type": "execute_result"
    }
   ],
   "source": [
    "colores = [\"Blanco\", \"Azul\", \"Verde\"]\n",
    "\n",
    "color = iter(colores)\n",
    "\n",
    "next(color)\n",
    "next(color)\n",
    "next(color)"
   ]
  },
  {
   "cell_type": "code",
   "execution_count": 17,
   "id": "ee4efab5",
   "metadata": {},
   "outputs": [
    {
     "name": "stdout",
     "output_type": "stream",
     "text": [
      "A\n",
      "E\n",
      "I\n",
      "O\n",
      "1\n",
      "3\n",
      "1\n",
      "0\n",
      "A : 1\n",
      "E : 3\n",
      "I : 1\n",
      "O : 0\n"
     ]
    }
   ],
   "source": [
    "valores = {'A' : 1, 'E': 3, 'I': 1, 'O': 0}\n",
    "\n",
    "for k in valores:\n",
    "    print(k)\n",
    "\n",
    "for v in valores.values():\n",
    "    print(v)\n",
    "\n",
    "\n",
    "for k,v in valores.items():\n",
    "    print(k, \":\",v)"
   ]
  },
  {
   "cell_type": "code",
   "execution_count": 14,
   "id": "d7a63b6e",
   "metadata": {},
   "outputs": [
    {
     "name": "stdout",
     "output_type": "stream",
     "text": [
      "2\n",
      "3\n",
      "4\n",
      "5\n",
      "6\n",
      "7\n",
      "8\n",
      "9\n",
      "10\n"
     ]
    }
   ],
   "source": [
    "for i in range(2,11):\n",
    "    print(i)"
   ]
  },
  {
   "cell_type": "code",
   "execution_count": 15,
   "id": "d40b48a7",
   "metadata": {},
   "outputs": [
    {
     "name": "stdout",
     "output_type": "stream",
     "text": [
      "2\n",
      "4\n",
      "6\n",
      "8\n",
      "10\n"
     ]
    }
   ],
   "source": [
    "for i in range(2,11,2):\n",
    "    print(i)"
   ]
  },
  {
   "cell_type": "code",
   "execution_count": 16,
   "id": "8aeceb5c",
   "metadata": {},
   "outputs": [
    {
     "name": "stdout",
     "output_type": "stream",
     "text": [
      "0\n",
      "1\n",
      "2\n",
      "3\n",
      "4\n",
      "5\n",
      "6\n",
      "7\n",
      "8\n",
      "9\n"
     ]
    }
   ],
   "source": [
    "for i in range(10):\n",
    "    print(i)"
   ]
  },
  {
   "cell_type": "code",
   "execution_count": null,
   "id": "6651c256",
   "metadata": {},
   "outputs": [],
   "source": [
    "inicio = int(input(\"Ingresa el inicio\"))\n",
    "final = int(input(\"Ingresa el final\"))\n",
    "    for "
   ]
  },
  {
   "cell_type": "code",
   "execution_count": 12,
   "id": "7ba20c29",
   "metadata": {},
   "outputs": [
    {
     "name": "stdout",
     "output_type": "stream",
     "text": [
      "Introduce el inicio del rango: 10\n",
      "Introduce el final del rango: 15\n",
      "Introduce el inicio de la tabla: 10\n",
      "Introduce el final de la tabla: 15\n",
      "10 * 10 =  100\n",
      "10 * 11 =  110\n",
      "10 * 12 =  120\n",
      "10 * 13 =  130\n",
      "10 * 14 =  140\n",
      "10 * 15 =  150\n",
      "\n",
      "11 * 10 =  110\n",
      "11 * 11 =  121\n",
      "11 * 12 =  132\n",
      "11 * 13 =  143\n",
      "11 * 14 =  154\n",
      "11 * 15 =  165\n",
      "\n",
      "12 * 10 =  120\n",
      "12 * 11 =  132\n",
      "12 * 12 =  144\n",
      "12 * 13 =  156\n",
      "12 * 14 =  168\n",
      "12 * 15 =  180\n",
      "\n",
      "13 * 10 =  130\n",
      "13 * 11 =  143\n",
      "13 * 12 =  156\n",
      "13 * 13 =  169\n",
      "13 * 14 =  182\n",
      "13 * 15 =  195\n",
      "\n",
      "14 * 10 =  140\n",
      "14 * 11 =  154\n",
      "14 * 12 =  168\n",
      "14 * 13 =  182\n",
      "14 * 14 =  196\n",
      "14 * 15 =  210\n",
      "\n",
      "15 * 10 =  150\n",
      "15 * 11 =  165\n",
      "15 * 12 =  180\n",
      "15 * 13 =  195\n",
      "15 * 14 =  210\n",
      "15 * 15 =  225\n",
      "\n"
     ]
    }
   ],
   "source": [
    "#Tabla de multiplicar infinita\n",
    "#Va a tener un inicio de rango inicio_rango\n",
    "#VA a tener un final de rango final_rango\n",
    "#Va a tener un inicio y final de tabla\n",
    "#inicio_tabla final_tabla\n",
    "\n",
    "inicio_rango = int(input(\"Introduce el inicio del rango: \"))\n",
    "final_rango = int(input(\"Introduce el final del rango: \"))\n",
    "inicio_tabla = int(input(\"Introduce el inicio de la tabla: \"))\n",
    "final_tabla = int(input(\"Introduce el final de la tabla: \"))\n",
    "\n",
    "for inicio in range(inicio_rango, final_rango + 1):\n",
    "    for final in range(inicio_tabla, final_tabla + 1):\n",
    "        print(f'{inicio} * {final} =  {inicio * final}')\n",
    "    print()"
   ]
  },
  {
   "cell_type": "code",
   "execution_count": null,
   "id": "a1e5697d",
   "metadata": {},
   "outputs": [],
   "source": []
  }
 ],
 "metadata": {
  "kernelspec": {
   "display_name": "Python 3 (ipykernel)",
   "language": "python",
   "name": "python3"
  },
  "language_info": {
   "codemirror_mode": {
    "name": "ipython",
    "version": 3
   },
   "file_extension": ".py",
   "mimetype": "text/x-python",
   "name": "python",
   "nbconvert_exporter": "python",
   "pygments_lexer": "ipython3",
   "version": "3.11.4"
  }
 },
 "nbformat": 4,
 "nbformat_minor": 5
}
