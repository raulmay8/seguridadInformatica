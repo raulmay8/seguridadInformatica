{
 "cells": [
  {
   "cell_type": "code",
   "execution_count": 3,
   "id": "22587ea2",
   "metadata": {},
   "outputs": [
    {
     "ename": "KeyError",
     "evalue": "'peso'",
     "output_type": "error",
     "traceback": [
      "\u001b[1;31m---------------------------------------------------------------------------\u001b[0m",
      "\u001b[1;31mKeyError\u001b[0m                                  Traceback (most recent call last)",
      "Cell \u001b[1;32mIn[3], line 22\u001b[0m\n\u001b[0;32m     19\u001b[0m                 \u001b[38;5;28mprint\u001b[39m(\u001b[38;5;124mf\u001b[39m\u001b[38;5;124m\"\u001b[39m\u001b[38;5;132;01m{\u001b[39;00mnombre\u001b[38;5;132;01m}\u001b[39;00m\u001b[38;5;124m estas \u001b[39m\u001b[38;5;132;01m{\u001b[39;00mdescripcion\u001b[38;5;132;01m}\u001b[39;00m\u001b[38;5;124m: IMC \u001b[39m\u001b[38;5;132;01m{\u001b[39;00m\u001b[38;5;28mround\u001b[39m(imc_p,\u001b[38;5;250m \u001b[39m\u001b[38;5;241m1\u001b[39m)\u001b[38;5;132;01m}\u001b[39;00m\u001b[38;5;124m\"\u001b[39m)\n\u001b[0;32m     20\u001b[0m                 \u001b[38;5;28;01mbreak\u001b[39;00m\n\u001b[1;32m---> 22\u001b[0m peso_p \u001b[38;5;241m=\u001b[39m persona[\u001b[38;5;124m\"\u001b[39m\u001b[38;5;124mpeso\u001b[39m\u001b[38;5;124m\"\u001b[39m]\n\u001b[0;32m     23\u001b[0m altura_p \u001b[38;5;241m=\u001b[39m persona[\u001b[38;5;124m\"\u001b[39m\u001b[38;5;124maltura\u001b[39m\u001b[38;5;124m\"\u001b[39m]\n\u001b[0;32m     24\u001b[0m nombre_p \u001b[38;5;241m=\u001b[39m persona[\u001b[38;5;124m\"\u001b[39m\u001b[38;5;124mnombre\u001b[39m\u001b[38;5;124m\"\u001b[39m]\n",
      "\u001b[1;31mKeyError\u001b[0m: 'peso'"
     ]
    }
   ],
   "source": [
    "persona = {\n",
    "    \"nombre\": \"Juan\",\n",
    "    \"edad\": 25,\n",
    "    \"ciudad\": \"Madrid\"\n",
    "}\n",
    "\n",
    "def imc(peso, altura, nombre):\n",
    "    imc_p = peso / altura ** 2\n",
    "    \n",
    "    categorias  = [\n",
    "        (18.5, \"Bajo peso\"),\n",
    "        (24.9, \"Normal\"),\n",
    "        (29.9, \"Sobrepeso\"),\n",
    "        (float('inf'), \"Obesidad\")\n",
    "    ]\n",
    "    \n",
    "    for limite, descripcion in categorias:\n",
    "        if imc_p <= limite:\n",
    "                print(f\"{nombre} estas {descripcion}: IMC {round(imc_p, 1)}\")\n",
    "                break\n",
    "                \n",
    "peso_p = persona[\"peso\"]\n",
    "altura_p = persona[\"altura\"]\n",
    "nombre_p = persona[\"nombre\"]\n",
    "\n",
    "imc(peso_p, altura_p, nombre_p)"
   ]
  },
  {
   "cell_type": "code",
   "execution_count": 2,
   "id": "250c991c",
   "metadata": {},
   "outputs": [
    {
     "name": "stdout",
     "output_type": "stream",
     "text": [
      "Raúl May, estás en sobrepeso: IMC 27.7\n"
     ]
    }
   ],
   "source": [
    "datos = {\n",
    "    \"nombre\": \"Raúl May\",\n",
    "    \"peso\": 80,\n",
    "    \"altura\": 1.70  \n",
    "}\n",
    "\n",
    "def imc(peso, altura, nombre):\n",
    "    imc_p = peso / (altura**2)  \n",
    "    \n",
    "    if imc_p < 18.5:\n",
    "        print(f\"{nombre}, estás bajo de peso: IMC {round(imc_p, 1)}\")\n",
    "    elif imc_p >= 18.5 and imc_p <= 24.9:\n",
    "        print(f\"{nombre}, estás en un rango de peso normal: IMC {round(imc_p, 1)}\")\n",
    "    elif imc_p >= 25.0 and imc_p <= 29.9:\n",
    "        print(f\"{nombre}, estás en sobrepeso: IMC {round(imc_p, 1)}\")\n",
    "    else:\n",
    "        print(f\"{nombre}, tienes obesidad: IMC {round(imc_p, 1)}\")\n",
    "\n",
    "peso = datos[\"peso\"]\n",
    "altura = datos[\"altura\"]\n",
    "nombre = datos[\"nombre\"]\n",
    "\n",
    "imc(peso, altura, nombre)"
   ]
  },
  {
   "cell_type": "code",
   "execution_count": null,
   "id": "7ec98ead",
   "metadata": {},
   "outputs": [],
   "source": []
  }
 ],
 "metadata": {
  "kernelspec": {
   "display_name": "Python 3 (ipykernel)",
   "language": "python",
   "name": "python3"
  },
  "language_info": {
   "codemirror_mode": {
    "name": "ipython",
    "version": 3
   },
   "file_extension": ".py",
   "mimetype": "text/x-python",
   "name": "python",
   "nbconvert_exporter": "python",
   "pygments_lexer": "ipython3",
   "version": "3.11.4"
  }
 },
 "nbformat": 4,
 "nbformat_minor": 5
}
