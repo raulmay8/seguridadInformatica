{
 "cells": [
  {
   "cell_type": "code",
   "execution_count": 1,
   "id": "73fd21d3",
   "metadata": {},
   "outputs": [
    {
     "name": "stdout",
     "output_type": "stream",
     "text": [
      "Requirement already satisfied: pandas in c:\\users\\karina\\anaconda3\\lib\\site-packages (1.5.3)\n",
      "Requirement already satisfied: python-dateutil>=2.8.1 in c:\\users\\karina\\anaconda3\\lib\\site-packages (from pandas) (2.8.2)\n",
      "Requirement already satisfied: pytz>=2020.1 in c:\\users\\karina\\anaconda3\\lib\\site-packages (from pandas) (2022.7)\n",
      "Requirement already satisfied: numpy>=1.21.0 in c:\\users\\karina\\anaconda3\\lib\\site-packages (from pandas) (1.24.3)\n",
      "Requirement already satisfied: six>=1.5 in c:\\users\\karina\\anaconda3\\lib\\site-packages (from python-dateutil>=2.8.1->pandas) (1.16.0)\n"
     ]
    }
   ],
   "source": [
    "!pip install pandas"
   ]
  },
  {
   "cell_type": "code",
   "execution_count": 2,
   "id": "5e26c251",
   "metadata": {},
   "outputs": [],
   "source": [
    "import pandas as pd"
   ]
  },
  {
   "cell_type": "code",
   "execution_count": 7,
   "id": "4cedeca8",
   "metadata": {},
   "outputs": [
    {
     "data": {
      "text/html": [
       "<div>\n",
       "<style scoped>\n",
       "    .dataframe tbody tr th:only-of-type {\n",
       "        vertical-align: middle;\n",
       "    }\n",
       "\n",
       "    .dataframe tbody tr th {\n",
       "        vertical-align: top;\n",
       "    }\n",
       "\n",
       "    .dataframe thead th {\n",
       "        text-align: right;\n",
       "    }\n",
       "</style>\n",
       "<table border=\"1\" class=\"dataframe\">\n",
       "  <thead>\n",
       "    <tr style=\"text-align: right;\">\n",
       "      <th></th>\n",
       "      <th>Id</th>\n",
       "      <th>Nombre</th>\n",
       "      <th>Ciudad</th>\n",
       "      <th>Apodo</th>\n",
       "    </tr>\n",
       "  </thead>\n",
       "  <tbody>\n",
       "    <tr>\n",
       "      <th>0</th>\n",
       "      <td>1</td>\n",
       "      <td>Fernando</td>\n",
       "      <td>Cancun</td>\n",
       "      <td>Pechugas</td>\n",
       "    </tr>\n",
       "    <tr>\n",
       "      <th>1</th>\n",
       "      <td>2</td>\n",
       "      <td>Jaime</td>\n",
       "      <td>Veracruz</td>\n",
       "      <td>Brocoli</td>\n",
       "    </tr>\n",
       "    <tr>\n",
       "      <th>2</th>\n",
       "      <td>3</td>\n",
       "      <td>Arturo</td>\n",
       "      <td>Campeche</td>\n",
       "      <td>Gordo</td>\n",
       "    </tr>\n",
       "    <tr>\n",
       "      <th>3</th>\n",
       "      <td>4</td>\n",
       "      <td>Cristian</td>\n",
       "      <td>Tabasco</td>\n",
       "      <td>Enfermo</td>\n",
       "    </tr>\n",
       "  </tbody>\n",
       "</table>\n",
       "</div>"
      ],
      "text/plain": [
       "   Id    Nombre    Ciudad     Apodo\n",
       "0   1  Fernando    Cancun  Pechugas\n",
       "1   2     Jaime  Veracruz   Brocoli\n",
       "2   3    Arturo  Campeche     Gordo\n",
       "3   4  Cristian   Tabasco   Enfermo"
      ]
     },
     "execution_count": 7,
     "metadata": {},
     "output_type": "execute_result"
    }
   ],
   "source": [
    "pd.read_excel(\"tabla.xlsx\")"
   ]
  },
  {
   "cell_type": "code",
   "execution_count": 12,
   "id": "6bc37f8c",
   "metadata": {},
   "outputs": [
    {
     "name": "stdout",
     "output_type": "stream",
     "text": [
      "Collecting PyPDF2\n",
      "  Downloading pypdf2-3.0.1-py3-none-any.whl (232 kB)\n",
      "     ---------------------------------------- 0.0/232.6 kB ? eta -:--:--\n",
      "     ------ ------------------------------ 41.0/232.6 kB 653.6 kB/s eta 0:00:01\n",
      "     ------------------------- ------------ 153.6/232.6 kB 1.5 MB/s eta 0:00:01\n",
      "     -------------------------------------- 232.6/232.6 kB 1.8 MB/s eta 0:00:00\n",
      "Installing collected packages: PyPDF2\n",
      "Successfully installed PyPDF2-3.0.1\n"
     ]
    }
   ],
   "source": [
    "!pip install PyPDF2"
   ]
  },
  {
   "cell_type": "code",
   "execution_count": 27,
   "id": "01342cc0",
   "metadata": {},
   "outputs": [
    {
     "name": "stdout",
     "output_type": "stream",
     "text": [
      "Ríos contamina dos \n",
      " \n",
      "1. Río Salween. Es el río más contaminado del mundo y se encuentra en el sureste asiático. \n",
      "Debido a la actividad industrial en sus laderas, su agua se ha visto afectada por presencia \n",
      "de plomo, azufre, cobre, zinc y mercurio.  \n",
      "2. Río Danubio. El conocido como “río azul”, que recorre Europa central, ha aumentado sus \n",
      "niveles de contaminación desde 1999 hasta ser el segundo río más contaminado del \n",
      "mundo. Por un lado, por los fluidos de las fábricas serbias que fueron bombardeadas \n",
      "dura nte el conflicto balcánico. Por otro lado, por el aumento del transporte fluvial por sus \n",
      "aguas y los vertidos de químicos, pesticidas y aguas residuales.  \n",
      "3. Río de La Plata. El vaciado en sus aguas de residuos domésticos e industriales en sus \n",
      "afluentes, así como la escorrentía procedente de la agricultura, ha ocasionado que este río, \n",
      "frontera natural entre Argentina y Uruguay, tenga altos niveles de contaminac ión. \n",
      "4. Río Bravo. Es la segunda cuenta fluvial más grande de Estados Unidos y el cuarto río más \n",
      "contaminado del mundo. Riega gran parte de las regiones de México, donde se le conoce \n",
      "como río Grande. La presencia de más de un centenar de presas y acueductos ha \n",
      "mermado su caudal. Peor son las diversas industrias a lo largo de su cauce las que han \n",
      "provocado su contaminación.  \n",
      "5. Río Ganges. Se encuentra al norte de la India y abastece a casi la mitad de la población del \n",
      "país. Es su fuente de agua más importante, lo que hace de su alta contaminación un grave \n",
      "peligro en cuestiones de salud. Allí acuden miles y miles de peregrinos a purificar sus \n",
      "pecados, pero también abandonan en sus aguas cadáveres tanto humanos como animales \n",
      "incinerados. Además, se vierten gran cantidad de aguas residuales y desperdicios \n",
      "industriales.  \n"
     ]
    }
   ],
   "source": [
    "from PyPDF2 import PdfReader\n",
    "\n",
    "reader = PdfReader(\"rios.pdf\")\n",
    "page = reader.pages[0]\n",
    "print(page.extract_text())"
   ]
  },
  {
   "cell_type": "code",
   "execution_count": 28,
   "id": "50dd92ca",
   "metadata": {},
   "outputs": [
    {
     "name": "stdout",
     "output_type": "stream",
     "text": [
      "Collecting python-docx\n",
      "  Obtaining dependency information for python-docx from https://files.pythonhosted.org/packages/ea/82/ddb60b44c6e39a74bd406fab7d7c102ce7dfca2dff9515dfd6edc7d25f1e/python_docx-1.0.1-py3-none-any.whl.metadata\n",
      "  Downloading python_docx-1.0.1-py3-none-any.whl.metadata (2.0 kB)\n",
      "Requirement already satisfied: lxml>=3.1.0 in c:\\users\\karina\\anaconda3\\lib\\site-packages (from python-docx) (4.9.2)\n",
      "Requirement already satisfied: typing-extensions in c:\\users\\karina\\anaconda3\\lib\\site-packages (from python-docx) (4.7.1)\n",
      "Downloading python_docx-1.0.1-py3-none-any.whl (237 kB)\n",
      "   ---------------------------------------- 0.0/237.4 kB ? eta -:--:--\n",
      "   ----- ---------------------------------- 30.7/237.4 kB 1.4 MB/s eta 0:00:01\n",
      "   ----- ---------------------------------- 30.7/237.4 kB 1.4 MB/s eta 0:00:01\n",
      "   ------------------ ------------------- 112.6/237.4 kB 939.4 kB/s eta 0:00:01\n",
      "   ------------------ ------------------- 112.6/237.4 kB 939.4 kB/s eta 0:00:01\n",
      "   ---------------------------------------  235.5/237.4 kB 1.1 MB/s eta 0:00:01\n",
      "   ---------------------------------------- 237.4/237.4 kB 1.0 MB/s eta 0:00:00\n",
      "Installing collected packages: python-docx\n",
      "Successfully installed python-docx-1.0.1\n"
     ]
    }
   ],
   "source": [
    "!pip install python-docx"
   ]
  },
  {
   "cell_type": "code",
   "execution_count": 29,
   "id": "e16bb87c",
   "metadata": {},
   "outputs": [
    {
     "name": "stdout",
     "output_type": "stream",
     "text": [
      "Animales extintos\n",
      "\n",
      "1. Tigre de Tasmania\n",
      "El tilacino fue el marsupial carnívoro más grande del que se tuvo conocimiento cuando fue descubierto por primera vez en Australia. El último ejemplar de su especie murió en cautiverio en 1936, indica la revista científica sin ánimo lucrativo Plos One. También conocido como Tigre de Tasmania, era casi idéntico morfológica y conductualmente al perro y al lobo.\n",
      "2. Dodo\n",
      "El dodo (Raphus cucullatus), también conocido como dronte, fue un ave no voladora que habitó la Isla Mauricio en África. Según BirdLife International, fuente científica oficial de información sobre aves de la Lista Roja de la Unión Internacional para la Conservación de la Naturaleza (UICN), la llegada del ser humano a su hábitat en el siglo XVII provocó su extinción.\n",
      "\n",
      "3. Pez Mano Liso\n",
      "El Sympterichthys unipennis fue el primer pez marino moderno en desaparecer, según el artículo titulado Se extinguió un pez que podía “caminar”. ¿Se salvarán sus parientes? , publicado en 2020 por el periodista de animales y vida silvestre Douglas Main en el sitio de Estados Unidos de National Geographic. Este evento fue oficializado posteriormente por la UICN.\n",
      "\n",
      "4. Tortuga Gigante Pinta\n",
      "La tortuga gigante de Pinta (Chelonoidis abingdonii) fue un animal que habitó las Islas Galápagos de Ecuador. Lonesome George (Solitario George, en español), murió en junio de 2012 y fue el último ejemplar de esta especie que habitó el archipiélago.\n"
     ]
    }
   ],
   "source": [
    "import docx\n",
    "\n",
    "# Abre el archivo Word\n",
    "doc = docx.Document('animales.docx')\n",
    "\n",
    "# Itera a través de los párrafos del documento\n",
    "for paragraph in doc.paragraphs:\n",
    "    print(paragraph.text)"
   ]
  },
  {
   "cell_type": "code",
   "execution_count": null,
   "id": "ec3477b1",
   "metadata": {},
   "outputs": [],
   "source": []
  }
 ],
 "metadata": {
  "kernelspec": {
   "display_name": "Python 3 (ipykernel)",
   "language": "python",
   "name": "python3"
  },
  "language_info": {
   "codemirror_mode": {
    "name": "ipython",
    "version": 3
   },
   "file_extension": ".py",
   "mimetype": "text/x-python",
   "name": "python",
   "nbconvert_exporter": "python",
   "pygments_lexer": "ipython3",
   "version": "3.11.4"
  }
 },
 "nbformat": 4,
 "nbformat_minor": 5
}
