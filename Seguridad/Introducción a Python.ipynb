{
 "cells": [
  {
   "cell_type": "markdown",
   "id": "71683b9f",
   "metadata": {},
   "source": [
    "# Holi bro"
   ]
  },
  {
   "cell_type": "code",
   "execution_count": 1,
   "id": "ac506df0",
   "metadata": {},
   "outputs": [
    {
     "name": "stdout",
     "output_type": "stream",
     "text": [
      "Holi bro\n"
     ]
    }
   ],
   "source": [
    "print (\"Holi bro\");"
   ]
  },
  {
   "cell_type": "code",
   "execution_count": 2,
   "id": "8a6b1e0b",
   "metadata": {},
   "outputs": [
    {
     "data": {
      "text/plain": [
       "'Holi bro'"
      ]
     },
     "execution_count": 2,
     "metadata": {},
     "output_type": "execute_result"
    }
   ],
   "source": [
    "'Holi bro'"
   ]
  },
  {
   "cell_type": "code",
   "execution_count": null,
   "id": "32d2f8f4",
   "metadata": {},
   "outputs": [],
   "source": []
  }
 ],
 "metadata": {
  "kernelspec": {
   "display_name": "Python 3 (ipykernel)",
   "language": "python",
   "name": "python3"
  },
  "language_info": {
   "codemirror_mode": {
    "name": "ipython",
    "version": 3
   },
   "file_extension": ".py",
   "mimetype": "text/x-python",
   "name": "python",
   "nbconvert_exporter": "python",
   "pygments_lexer": "ipython3",
   "version": "3.11.4"
  }
 },
 "nbformat": 4,
 "nbformat_minor": 5
}
