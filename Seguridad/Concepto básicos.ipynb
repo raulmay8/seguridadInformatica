{
 "cells": [
  {
   "cell_type": "code",
   "execution_count": 1,
   "id": "95a9a1b9",
   "metadata": {},
   "outputs": [],
   "source": [
    "# 1. Variables y tipos de datos"
   ]
  },
  {
   "cell_type": "code",
   "execution_count": 4,
   "id": "87d2b8ae",
   "metadata": {},
   "outputs": [
    {
     "name": "stdout",
     "output_type": "stream",
     "text": [
      "<class 'str'>\n",
      "<class 'str'>\n",
      "<class 'str'>\n",
      "<class 'str'>\n",
      "<class 'int'>\n",
      "<class 'float'>\n",
      "<class 'bool'>\n",
      "<class 'bool'>\n"
     ]
    }
   ],
   "source": [
    "nombre = 'Raúl'\n",
    "ap_paterno = \"May\"\n",
    "ap_materno = \"\"\"Canul\"\"\"\n",
    "nombre_completo = f\"{nombre} {ap_paterno} {ap_materno}\"\n",
    "\n",
    "edad = 33\n",
    "altura = 1.60\n",
    "es_estudiante = True\n",
    "es_docente = False\n",
    "\n",
    "print(type (nombre))\n",
    "print(type (ap_paterno))\n",
    "print(type (ap_materno))\n",
    "print(type (nombre_completo))\n",
    "print(type (edad))\n",
    "print(type (altura))\n",
    "print(type (es_estudiante))\n",
    "print(type (es_docente))\n"
   ]
  },
  {
   "cell_type": "code",
   "execution_count": null,
   "id": "9e6391f2",
   "metadata": {},
   "outputs": [],
   "source": [
    "# 2. Operadores"
   ]
  },
  {
   "cell_type": "code",
   "execution_count": null,
   "id": "61b06400",
   "metadata": {},
   "outputs": [],
   "source": [
    "# 3.Entrada y salida estándar"
   ]
  },
  {
   "cell_type": "code",
   "execution_count": 5,
   "id": "ab4acace",
   "metadata": {
    "scrolled": true
   },
   "outputs": [
    {
     "name": "stdout",
     "output_type": "stream",
     "text": [
      "Ingresa el número uno: 10\n",
      "Ingresa el número dos: 100\n",
      "110\n"
     ]
    }
   ],
   "source": [
    "numero_uno = int(input(\"Ingresa el número uno: \"))\n",
    "numero_dos = int(input(\"Ingresa el número dos: \"))\n",
    "\n",
    "suma = numero_uno + numero_dos\n",
    "\n",
    "print(suma)\n"
   ]
  },
  {
   "cell_type": "code",
   "execution_count": 9,
   "id": "374ecb78",
   "metadata": {},
   "outputs": [
    {
     "name": "stdout",
     "output_type": "stream",
     "text": [
      "Nombre: Raúl\n",
      "Primer Apellido: May\n",
      "Segundo apellido: Canul\n",
      "Edad: 26\n",
      "Estatura: 1.60\n",
      "Estudiante: True\n"
     ]
    },
    {
     "ename": "TypeError",
     "evalue": "can only concatenate str (not \"bool\") to str",
     "output_type": "error",
     "traceback": [
      "\u001b[1;31m---------------------------------------------------------------------------\u001b[0m",
      "\u001b[1;31mTypeError\u001b[0m                                 Traceback (most recent call last)",
      "Cell \u001b[1;32mIn[9], line 8\u001b[0m\n\u001b[0;32m      5\u001b[0m dato_altura \u001b[38;5;241m=\u001b[39m \u001b[38;5;28minput\u001b[39m(\u001b[38;5;124m\"\u001b[39m\u001b[38;5;124mEstatura: \u001b[39m\u001b[38;5;124m\"\u001b[39m)\n\u001b[0;32m      6\u001b[0m dato_oficio \u001b[38;5;241m=\u001b[39m \u001b[38;5;28mbool\u001b[39m(\u001b[38;5;28minput\u001b[39m(\u001b[38;5;124m\"\u001b[39m\u001b[38;5;124mEstudiante: \u001b[39m\u001b[38;5;124m\"\u001b[39m))\n\u001b[1;32m----> 8\u001b[0m datos_otros \u001b[38;5;241m=\u001b[39m dato_nombre \u001b[38;5;241m+\u001b[39m dato_ap_paterno \u001b[38;5;241m+\u001b[39m dato_ap_materno \u001b[38;5;241m+\u001b[39m dato_edad \u001b[38;5;241m+\u001b[39m dato_altura \u001b[38;5;241m+\u001b[39m dato_oficio\n\u001b[0;32m     10\u001b[0m \u001b[38;5;28mprint\u001b[39m (datos_otros)\n",
      "\u001b[1;31mTypeError\u001b[0m: can only concatenate str (not \"bool\") to str"
     ]
    }
   ],
   "source": [
    "dato_nombre = input(\"Nombre: \")\n",
    "dato_ap_paterno = input(\"Primer Apellido: \")\n",
    "dato_ap_materno = input (\"Segundo apellido: \")\n",
    "dato_edad = input(\"Edad: \")\n",
    "dato_altura = input(\"Estatura: \")\n",
    "dato_oficio = bool(input(\"Estudiante: \"))\n",
    "datos_completos = f\"{dato_nombre} {dato_ap_paterno} {dato_ap_materno} {dato_edad} {dato_altura} {dato_oficio}\"\n",
    "print (datos_otros)"
   ]
  },
  {
   "cell_type": "code",
   "execution_count": null,
   "id": "c5f81419",
   "metadata": {},
   "outputs": [
    {
     "name": "stdout",
     "output_type": "stream",
     "text": [
      "dame tu nombrevicente rivero\n"
     ]
    }
   ],
   "source": [
    "Nombre = input(\"dame tu nombre\")\n",
    "IsMaestro = bool(input(\"Maestro: \"))\n",
    "print(f\"tu nombre es {Nombre} y  Maestro: {IsMaestro}\")\n",
    "\n"
   ]
  },
  {
   "cell_type": "code",
   "execution_count": null,
   "id": "61f6ded1",
   "metadata": {},
   "outputs": [],
   "source": []
  },
  {
   "cell_type": "code",
   "execution_count": null,
   "id": "ccc03572",
   "metadata": {
    "collapsed": true
   },
   "outputs": [],
   "source": []
  }
 ],
 "metadata": {
  "kernelspec": {
   "display_name": "Python 3 (ipykernel)",
   "language": "python",
   "name": "python3"
  },
  "language_info": {
   "codemirror_mode": {
    "name": "ipython",
    "version": 3
   },
   "file_extension": ".py",
   "mimetype": "text/x-python",
   "name": "python",
   "nbconvert_exporter": "python",
   "pygments_lexer": "ipython3",
   "version": "3.11.4"
  }
 },
 "nbformat": 4,
 "nbformat_minor": 5
}
