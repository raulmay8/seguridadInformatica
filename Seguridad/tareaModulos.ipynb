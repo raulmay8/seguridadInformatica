{
 "cells": [
  {
   "cell_type": "code",
   "execution_count": 1,
   "id": "f40d2990",
   "metadata": {},
   "outputs": [],
   "source": [
    "from tareaClase.modulo1 import mayor\n",
    "from tareaClase.modulo2 import vocal\n",
    "from tareaClase.modulo3 import humor"
   ]
  },
  {
   "cell_type": "code",
   "execution_count": 5,
   "id": "2291dc9d",
   "metadata": {},
   "outputs": [
    {
     "name": "stdout",
     "output_type": "stream",
     "text": [
      "5\n"
     ]
    }
   ],
   "source": [
    "mayor(5, 3)"
   ]
  },
  {
   "cell_type": "code",
   "execution_count": 7,
   "id": "d86e3355",
   "metadata": {},
   "outputs": [
    {
     "name": "stdout",
     "output_type": "stream",
     "text": [
      "True\n"
     ]
    }
   ],
   "source": [
    "print(vocal(\"a\"))"
   ]
  },
  {
   "cell_type": "code",
   "execution_count": 4,
   "id": "9ad7c7cc",
   "metadata": {},
   "outputs": [
    {
     "name": "stdout",
     "output_type": "stream",
     "text": [
      "Mal humor\n"
     ]
    }
   ],
   "source": [
    "humor(\"mal\")"
   ]
  },
  {
   "cell_type": "code",
   "execution_count": null,
   "id": "e2c2d163",
   "metadata": {},
   "outputs": [],
   "source": []
  }
 ],
 "metadata": {
  "kernelspec": {
   "display_name": "Python 3 (ipykernel)",
   "language": "python",
   "name": "python3"
  },
  "language_info": {
   "codemirror_mode": {
    "name": "ipython",
    "version": 3
   },
   "file_extension": ".py",
   "mimetype": "text/x-python",
   "name": "python",
   "nbconvert_exporter": "python",
   "pygments_lexer": "ipython3",
   "version": "3.11.4"
  }
 },
 "nbformat": 4,
 "nbformat_minor": 5
}
